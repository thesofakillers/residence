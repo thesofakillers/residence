{
 "cells": [
  {
   "cell_type": "markdown",
   "id": "c4e5007a-4f6f-4dc5-94b8-315a1c10873b",
   "metadata": {},
   "source": [
    "# Where was I\n",
    "\n",
    "I use the following notebook to count how many days I spent on which location, leveraging [Google Maps Timeline](https://support.google.com/maps/answer/6258979?hl=en&co=GENIE.Platform%3DDesktop).\n",
    "\n",
    "## How to use\n",
    "\n",
    "1. Install geopandas, shapely, pandas\n",
    "\n",
    "```terminal\n",
    "pip install pandas, shapely, geopandas\n",
    "```\n",
    "\n",
    "2. Download your location history data from [Google Takeout](https://takeout.google.com/)\n",
    "\n",
    "3. Download a shape file with country borders. For example I use the [1:50 cultural vectors from Natural Earth](https://www.naturalearthdata.com/downloads/50m-cultural-vectors/)\n",
    "\n",
    "4. Unzip the downloads, and note the path to the relevant files in the `DATA_PATH` and `SHAPE_FILE` variables\n",
    "\n",
    "5. Run the cells. You may wish to adjust the date range in the final cell."
   ]
  },
  {
   "cell_type": "code",
   "execution_count": 1,
   "id": "4650b7f2-6324-4e80-8793-5122f8140e8a",
   "metadata": {
    "tags": []
   },
   "outputs": [],
   "source": [
    "import pandas as pd\n",
    "import json\n",
    "import geopandas as gpd\n",
    "from shapely.geometry import Point"
   ]
  },
  {
   "cell_type": "code",
   "execution_count": 2,
   "id": "393f6cd6-830a-4c17-a4a2-b6cc10003505",
   "metadata": {
    "tags": []
   },
   "outputs": [],
   "source": [
    "DATA_PATH = \"Takeout/Location History/Records.json\"\n",
    "SHAPE_FILE = \"ne_50m_admin_0_countries/ne_50m_admin_0_countries.shp\""
   ]
  },
  {
   "cell_type": "code",
   "execution_count": 3,
   "id": "fb9ef240-7fe8-4f87-b2eb-fc2e86b4181b",
   "metadata": {
    "tags": []
   },
   "outputs": [],
   "source": [
    "gdf = gpd.read_file(SHAPE_FILE)"
   ]
  },
  {
   "cell_type": "code",
   "execution_count": 4,
   "id": "c1af52c9-5bb5-425c-a1d2-3361c76e45f9",
   "metadata": {
    "tags": []
   },
   "outputs": [],
   "source": [
    "# reading/parsing location history data\n",
    "with open(DATA_PATH) as f:\n",
    "    data = json.load(f)\n",
    "data = data['locations']"
   ]
  },
  {
   "cell_type": "code",
   "execution_count": 5,
   "id": "a781522a-aa94-4461-80a7-1d74a7e53769",
   "metadata": {
    "tags": []
   },
   "outputs": [],
   "source": [
    "# convert to pandas\n",
    "data_df = pd.DataFrame(data)\n",
    "del data"
   ]
  },
  {
   "cell_type": "code",
   "execution_count": 6,
   "id": "ea4ad746-17c4-49de-9bf2-a9c3da95d17b",
   "metadata": {
    "tags": []
   },
   "outputs": [],
   "source": [
    "# dont care about other cols\n",
    "data_df = data_df[['latitudeE7', \"longitudeE7\",\"timestamp\"]]"
   ]
  },
  {
   "cell_type": "code",
   "execution_count": 7,
   "id": "557c06b4-7b9b-450d-9a0c-0e50c0abba32",
   "metadata": {
    "tags": []
   },
   "outputs": [],
   "source": [
    "# appropriately format lat, lon\n",
    "data_df[\"latitude\"] = data_df[\"latitudeE7\"] / 1e7\n",
    "data_df[\"longitude\"] = data_df[\"longitudeE7\"] / 1e7"
   ]
  },
  {
   "cell_type": "code",
   "execution_count": 8,
   "id": "b60c202c-ac09-44ec-9a1f-c8c5cd13f9a8",
   "metadata": {
    "tags": []
   },
   "outputs": [],
   "source": [
    "# convert lat lon into geopandas geometry obj\n",
    "geometry = [\n",
    "    Point(lon, lat) for lat, lon in zip(data_df[\"latitude\"], data_df[\"longitude\"])\n",
    "]\n",
    "data_df = gpd.GeoDataFrame(data_df, geometry=geometry)\n",
    "data_df.crs = 'EPSG:4326'"
   ]
  },
  {
   "cell_type": "code",
   "execution_count": null,
   "id": "ce23b0a2-ce14-4f4c-b79b-cdb5275fb1e9",
   "metadata": {
    "tags": []
   },
   "outputs": [],
   "source": [
    "# perform spatial join (takes a bit)\n",
    "data_df = gpd.sjoin(data_df, gdf, how='left', predicate='within')"
   ]
  },
  {
   "cell_type": "code",
   "execution_count": null,
   "id": "b833b366-b616-4071-831e-845e2b9be66c",
   "metadata": {
    "tags": []
   },
   "outputs": [],
   "source": [
    "# convert to proper type\n",
    "data_df[\"timestamp\"] = pd.to_datetime(data_df[\"timestamp\"], format='mixed')"
   ]
  },
  {
   "cell_type": "code",
   "execution_count": null,
   "id": "1ebaf8cc-bef8-43fe-a8a3-4050f13bf9be",
   "metadata": {
    "tags": []
   },
   "outputs": [],
   "source": [
    "# index by the timestamp column\n",
    "data_df = data_df.set_index(\"timestamp\")"
   ]
  },
  {
   "cell_type": "code",
   "execution_count": null,
   "id": "da4beeef-6afe-476f-9495-4d9875d99298",
   "metadata": {},
   "outputs": [],
   "source": [
    "# only care about these columns\n",
    "data_df = data_df[['latitude', 'longitude', 'NAME']]"
   ]
  },
  {
   "cell_type": "code",
   "execution_count": null,
   "id": "e8454c12-5812-4348-ac16-5326bf62902f",
   "metadata": {
    "tags": []
   },
   "outputs": [],
   "source": [
    "# better column name\n",
    "data_df = data_df.rename(columns={\"NAME\": \"country\"})"
   ]
  },
  {
   "cell_type": "code",
   "execution_count": null,
   "id": "2fa4fbac-ee1f-4c7d-a1a0-d1fcaad8f9d2",
   "metadata": {
    "tags": []
   },
   "outputs": [],
   "source": [
    "# change the date range accordingly\n",
    "data_df[\"2023/01/01\":\"2023/12/31\"].resample('D').ffill().groupby('country').size()"
   ]
  }
 ],
 "metadata": {
  "kernelspec": {
   "display_name": "residence",
   "language": "python",
   "name": "residence"
  },
  "language_info": {
   "codemirror_mode": {
    "name": "ipython",
    "version": 3
   },
   "file_extension": ".py",
   "mimetype": "text/x-python",
   "name": "python",
   "nbconvert_exporter": "python",
   "pygments_lexer": "ipython3",
   "version": "3.11.5"
  }
 },
 "nbformat": 4,
 "nbformat_minor": 5
}
